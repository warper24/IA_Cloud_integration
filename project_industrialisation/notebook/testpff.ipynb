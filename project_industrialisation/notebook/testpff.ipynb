{
 "cells": [
  {
   "cell_type": "code",
   "execution_count": 1,
   "metadata": {},
   "outputs": [
    {
     "name": "stderr",
     "output_type": "stream",
     "text": [
      "c:\\Users\\aysim\\Documents\\Ynov\\I.A. dans Cloud\\j1\\fil_rouge\\IA_Cloud_integration\\.venv\\Lib\\site-packages\\tqdm\\auto.py:21: TqdmWarning: IProgress not found. Please update jupyter and ipywidgets. See https://ipywidgets.readthedocs.io/en/stable/user_install.html\n",
      "  from .autonotebook import tqdm as notebook_tqdm\n"
     ]
    }
   ],
   "source": [
    "import sys\n",
    "import os\n",
    "# os.environ[\"PYTORCH_CUDA_ALLOC_CONF\"] = \"expandable_segments:True\"\n",
    "from unittest.mock import patch\n",
    "sys.path.insert(0, \"C:/Users/aysim/Documents/Ynov/I.A. dans Cloud/j1/fil_rouge/IA_Cloud_integration/project_industrialisation\")\n",
    "from utils.audio_extractor import AudioExtractor\n",
    "from utils.transcriber import Transcriber\n",
    "from utils.video_processor import VideoProcessor\n",
    "from utils.subtitle_generator import SubtitleGenerator"
   ]
  },
  {
   "cell_type": "code",
   "execution_count": 2,
   "metadata": {},
   "outputs": [],
   "source": [
    "input_video = \"input.mp4\"\n",
    "output_video = \"output.mp4\""
   ]
  },
  {
   "cell_type": "code",
   "execution_count": 3,
   "metadata": {},
   "outputs": [
    {
     "name": "stdout",
     "output_type": "stream",
     "text": [
      "Extraction réussie : audio-input.wav\n"
     ]
    }
   ],
   "source": [
    "# Extraction audio\n",
    "extractor = AudioExtractor(input_video)\n",
    "extracted_audio = extractor.extract_audio()"
   ]
  },
  {
   "cell_type": "code",
   "execution_count": 4,
   "metadata": {},
   "outputs": [
    {
     "name": "stderr",
     "output_type": "stream",
     "text": [
      "Device set to use cuda:0\n",
      "c:\\Users\\aysim\\Documents\\Ynov\\I.A. dans Cloud\\j1\\fil_rouge\\IA_Cloud_integration\\.venv\\Lib\\site-packages\\transformers\\models\\whisper\\generation_whisper.py:573: FutureWarning: The input name `inputs` is deprecated. Please make sure to use `input_features` instead.\n",
      "  warnings.warn(\n",
      "The attention mask is not set and cannot be inferred from input because pad token is same as eos token. As a consequence, you may observe unexpected behavior. Please pass your input's `attention_mask` to obtain reliable results.\n"
     ]
    }
   ],
   "source": [
    "# Transcription\n",
    "transcriber = Transcriber()\n",
    "transcription = transcriber.transcribe(extracted_audio)"
   ]
  },
  {
   "cell_type": "code",
   "execution_count": 5,
   "metadata": {},
   "outputs": [],
   "source": [
    "# Génération des sous-titres\n",
    "subtitle_generator = SubtitleGenerator(input_video, transcription)\n",
    "subtitle_file, transcription_text = subtitle_generator.generate_subtitles()"
   ]
  },
  {
   "cell_type": "code",
   "execution_count": 6,
   "metadata": {},
   "outputs": [
    {
     "name": "stdout",
     "output_type": "stream",
     "text": [
      "Conversion réussie : sub-input.srt → sub-input.ass\n",
      "Vidéo sous-titrée générée : output.mp4\n"
     ]
    }
   ],
   "source": [
    " # Ajout des sous-titres à la vidéo\n",
    "processor = VideoProcessor(input_video, 'sub-input.srt', output_video)\n",
    "processor.add_subtitles()"
   ]
  },
  {
   "cell_type": "code",
   "execution_count": null,
   "metadata": {},
   "outputs": [],
   "source": []
  }
 ],
 "metadata": {
  "kernelspec": {
   "display_name": ".venv",
   "language": "python",
   "name": "python3"
  },
  "language_info": {
   "codemirror_mode": {
    "name": "ipython",
    "version": 3
   },
   "file_extension": ".py",
   "mimetype": "text/x-python",
   "name": "python",
   "nbconvert_exporter": "python",
   "pygments_lexer": "ipython3",
   "version": "3.13.0"
  }
 },
 "nbformat": 4,
 "nbformat_minor": 2
}
